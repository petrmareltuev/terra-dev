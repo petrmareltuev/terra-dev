{
 "cells": [
  {
   "cell_type": "code",
   "execution_count": 1,
   "id": "unable-honor",
   "metadata": {},
   "outputs": [],
   "source": [
    "from History import History\n",
    "import numpy as np\n",
    "import random\n",
    "import sys\n",
    "import timeit"
   ]
  },
  {
   "cell_type": "code",
   "execution_count": 2,
   "id": "matched-embassy",
   "metadata": {},
   "outputs": [],
   "source": [
    "def gb_to_bytes(gb):\n",
    "    bytes = gb *1024 ** 2\n",
    "    return bytes"
   ]
  },
  {
   "cell_type": "code",
   "execution_count": 3,
   "id": "legendary-ridge",
   "metadata": {},
   "outputs": [],
   "source": [
    "def generate_random_and_set_history():\n",
    "    random_sequence = np.random.randint(10,size=500)\n",
    "    random_score = random.random()\n",
    "    \n",
    "    start = timeit.default_timer()\n",
    "    history.set_history(random_sequence, random_score)\n",
    "    stop = timeit.default_timer()\n",
    "    \n",
    "    total_time = stop - start\n",
    "    return total_time"
   ]
  },
  {
   "cell_type": "code",
   "execution_count": 4,
   "id": "organized-chuck",
   "metadata": {},
   "outputs": [],
   "source": [
    "history = History()\n",
    "total_time = 0\n",
    "total_function_calls = 0"
   ]
  },
  {
   "cell_type": "code",
   "execution_count": 5,
   "id": "dimensional-estate",
   "metadata": {},
   "outputs": [],
   "source": [
    "while sys.getsizeof(history.history_arr) < gb_to_bytes(3):\n",
    "    exec_time = generate_random_and_set_history()\n",
    "    total_time += exec_time\n",
    "    total_function_calls += 1"
   ]
  },
  {
   "cell_type": "code",
   "execution_count": 6,
   "id": "patient-hampshire",
   "metadata": {},
   "outputs": [
    {
     "name": "stdout",
     "output_type": "stream",
     "text": [
      "Среднее время выполнения: 1.0246166924076558 мс\n",
      "Количество дубликатов: 0\n"
     ]
    }
   ],
   "source": [
    "print(f\"Среднее время выполнения: {total_time / total_function_calls * 1000} мс\")\n",
    "print(f\"Количество дубликатов: {history.duplicate_counter}\")"
   ]
  },
  {
   "cell_type": "code",
   "execution_count": 7,
   "id": "surgical-collar",
   "metadata": {},
   "outputs": [],
   "source": [
    "history.save_history(\"hs.json\")"
   ]
  },
  {
   "cell_type": "code",
   "execution_count": 8,
   "id": "conscious-angola",
   "metadata": {},
   "outputs": [],
   "source": [
    "history.load_history(\"hs.json\")"
   ]
  },
  {
   "cell_type": "code",
   "execution_count": 9,
   "id": "southern-vintage",
   "metadata": {},
   "outputs": [],
   "source": [
    "while sys.getsizeof(history.history_arr) < gb_to_bytes(5):\n",
    "    exec_time = generate_random_and_set_history()\n",
    "    total_time += exec_time\n",
    "    total_function_calls += 1"
   ]
  },
  {
   "cell_type": "code",
   "execution_count": 10,
   "id": "static-belle",
   "metadata": {},
   "outputs": [
    {
     "name": "stdout",
     "output_type": "stream",
     "text": [
      "Среднее время выполнения: 1.0246166924076558 мс\n",
      "Количество дубликатов: 0\n"
     ]
    }
   ],
   "source": [
    "print(f\"Среднее время выполнения: {total_time / total_function_calls * 1000} мс\")\n",
    "print(f\"Количество дубликатов: {history.duplicate_counter}\")"
   ]
  }
 ],
 "metadata": {
  "kernelspec": {
   "display_name": "Python 3",
   "language": "python",
   "name": "python3"
  },
  "language_info": {
   "codemirror_mode": {
    "name": "ipython",
    "version": 3
   },
   "file_extension": ".py",
   "mimetype": "text/x-python",
   "name": "python",
   "nbconvert_exporter": "python",
   "pygments_lexer": "ipython3",
   "version": "3.7.4"
  }
 },
 "nbformat": 4,
 "nbformat_minor": 5
}
